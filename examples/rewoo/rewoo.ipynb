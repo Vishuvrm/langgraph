{
 "cells": [
  {
   "cell_type": "markdown",
   "id": "1c161710-fc66-426f-8c96-28440b9c9626",
   "metadata": {},
   "source": [
    "# Reasoning without Observation\n",
    "\n",
    "In [ReWOO](https://arxiv.org/abs/2305.18323), Xu, et. al, propose an agent that combines a multi-step planner and variable substitution for effective tool use. It was designed to improve on the ReACT-style agent architecture in the following ways:\n",
    "\n",
    "1. Reduce token consumption and execution time by generating the full chain of tools used in a single pass. (_ReACT-style agent architecture requires many LLM calls with redundant prefixes (since the system prompt and previous steps are provided to the LLM for each reasoning step_)\n",
    "2. Simplify the fine-tuning process. Since the planning data doesn't depend on the outputs of the tool, models can be fine-tuned without actually invoking the tools (in theory).\n",
    "\n",
    "\n",
    "The following diagram outlines ReWOO's overall computation graph:\n",
    "\n",
    "![ReWoo Diagram](./img/rewoo.png)\n",
    "\n",
    "ReWOO is made of 3 modules:\n",
    "\n",
    "1. 🧠**Planner**: Generate the plan in the following format:\n",
    "```text\n",
    "Plan: <reasoning>\n",
    "#E1 = Tool[argument for tool]\n",
    "Plan: <reasoning>\n",
    "#E2 = Tool[argument for tool with #E1 variable substitution]\n",
    "...\n",
    "```\n",
    "3. **Worker**: executes the tool with the provided arguments.\n",
    "4. 🧠**Solver**: generates the answer for the initial task based on the tool observations.\n",
    "\n",
    "The modules with a 🧠 emoji depend on an LLM call. Notice that we avoid redundant calls to the planner LLM by using variable substitution.\n",
    "\n",
    "In this example, each module is represented by a LangGraph node. The end result will leave a trace that looks [like this one](https://smith.langchain.com/public/39dbdcf8-fbcc-4479-8e28-15377ca5e653/r). Let's get started!\n",
    "\n",
    "## 0. Prerequisites\n",
    "\n",
    "For this example, we will provide the agent with a Tavily search engine tool. You can get an API key [here](https://app.tavily.com/sign-in) or replace with a free tool option (e.g., [duck duck go search](https://python.langchain.com/docs/integrations/tools/ddg)).\n",
    "\n",
    "To see the full langsmith trace, you can s"
   ]
  },
  {
   "cell_type": "code",
   "execution_count": 1,
   "id": "7f52bded-9d23-4826-8bfc-20b0d3a51182",
   "metadata": {},
   "outputs": [
    {
     "name": "stdout",
     "output_type": "stream",
     "text": [
      "Requirement already satisfied: langgraph in /workspaces/langgraph/.venv/lib/python3.10/site-packages (0.0.59)\n",
      "Requirement already satisfied: langchain_community in /workspaces/langgraph/.venv/lib/python3.10/site-packages (0.2.1)\n",
      "Requirement already satisfied: langchain_openai in /workspaces/langgraph/.venv/lib/python3.10/site-packages (0.1.8)\n",
      "Requirement already satisfied: tavily-python in /workspaces/langgraph/.venv/lib/python3.10/site-packages (0.3.3)\n",
      "Requirement already satisfied: langchain-core<0.3,>=0.2 in /workspaces/langgraph/.venv/lib/python3.10/site-packages (from langgraph) (0.2.2)\n",
      "Requirement already satisfied: PyYAML>=5.3 in /workspaces/langgraph/.venv/lib/python3.10/site-packages (from langchain_community) (6.0.1)\n",
      "Requirement already satisfied: SQLAlchemy<3,>=1.4 in /workspaces/langgraph/.venv/lib/python3.10/site-packages (from langchain_community) (2.0.30)\n",
      "Requirement already satisfied: aiohttp<4.0.0,>=3.8.3 in /workspaces/langgraph/.venv/lib/python3.10/site-packages (from langchain_community) (3.9.5)\n",
      "Requirement already satisfied: dataclasses-json<0.7,>=0.5.7 in /workspaces/langgraph/.venv/lib/python3.10/site-packages (from langchain_community) (0.6.6)\n",
      "Requirement already satisfied: langchain<0.3.0,>=0.2.0 in /workspaces/langgraph/.venv/lib/python3.10/site-packages (from langchain_community) (0.2.1)\n",
      "Requirement already satisfied: langsmith<0.2.0,>=0.1.0 in /workspaces/langgraph/.venv/lib/python3.10/site-packages (from langchain_community) (0.1.65)\n",
      "Requirement already satisfied: numpy<2,>=1 in /workspaces/langgraph/.venv/lib/python3.10/site-packages (from langchain_community) (1.26.4)\n",
      "Requirement already satisfied: requests<3,>=2 in /workspaces/langgraph/.venv/lib/python3.10/site-packages (from langchain_community) (2.32.3)\n",
      "Requirement already satisfied: tenacity<9.0.0,>=8.1.0 in /workspaces/langgraph/.venv/lib/python3.10/site-packages (from langchain_community) (8.2.3)\n",
      "Requirement already satisfied: openai<2.0.0,>=1.26.0 in /workspaces/langgraph/.venv/lib/python3.10/site-packages (from langchain_openai) (1.30.4)\n",
      "Requirement already satisfied: tiktoken<1,>=0.7 in /workspaces/langgraph/.venv/lib/python3.10/site-packages (from langchain_openai) (0.7.0)\n",
      "Requirement already satisfied: aiosignal>=1.1.2 in /workspaces/langgraph/.venv/lib/python3.10/site-packages (from aiohttp<4.0.0,>=3.8.3->langchain_community) (1.3.1)\n",
      "Requirement already satisfied: attrs>=17.3.0 in /workspaces/langgraph/.venv/lib/python3.10/site-packages (from aiohttp<4.0.0,>=3.8.3->langchain_community) (23.2.0)\n",
      "Requirement already satisfied: frozenlist>=1.1.1 in /workspaces/langgraph/.venv/lib/python3.10/site-packages (from aiohttp<4.0.0,>=3.8.3->langchain_community) (1.4.1)\n",
      "Requirement already satisfied: multidict<7.0,>=4.5 in /workspaces/langgraph/.venv/lib/python3.10/site-packages (from aiohttp<4.0.0,>=3.8.3->langchain_community) (6.0.5)\n",
      "Requirement already satisfied: yarl<2.0,>=1.0 in /workspaces/langgraph/.venv/lib/python3.10/site-packages (from aiohttp<4.0.0,>=3.8.3->langchain_community) (1.9.4)\n",
      "Requirement already satisfied: async-timeout<5.0,>=4.0 in /workspaces/langgraph/.venv/lib/python3.10/site-packages (from aiohttp<4.0.0,>=3.8.3->langchain_community) (4.0.3)\n",
      "Requirement already satisfied: marshmallow<4.0.0,>=3.18.0 in /workspaces/langgraph/.venv/lib/python3.10/site-packages (from dataclasses-json<0.7,>=0.5.7->langchain_community) (3.21.2)\n",
      "Requirement already satisfied: typing-inspect<1,>=0.4.0 in /workspaces/langgraph/.venv/lib/python3.10/site-packages (from dataclasses-json<0.7,>=0.5.7->langchain_community) (0.9.0)\n",
      "Requirement already satisfied: langchain-text-splitters<0.3.0,>=0.2.0 in /workspaces/langgraph/.venv/lib/python3.10/site-packages (from langchain<0.3.0,>=0.2.0->langchain_community) (0.2.0)\n",
      "Requirement already satisfied: pydantic<3,>=1 in /workspaces/langgraph/.venv/lib/python3.10/site-packages (from langchain<0.3.0,>=0.2.0->langchain_community) (2.7.1)\n",
      "Requirement already satisfied: jsonpatch<2.0,>=1.33 in /workspaces/langgraph/.venv/lib/python3.10/site-packages (from langchain-core<0.3,>=0.2->langgraph) (1.33)\n",
      "Requirement already satisfied: packaging<24.0,>=23.2 in /workspaces/langgraph/.venv/lib/python3.10/site-packages (from langchain-core<0.3,>=0.2->langgraph) (23.2)\n",
      "Requirement already satisfied: orjson<4.0.0,>=3.9.14 in /workspaces/langgraph/.venv/lib/python3.10/site-packages (from langsmith<0.2.0,>=0.1.0->langchain_community) (3.10.1)\n",
      "Requirement already satisfied: anyio<5,>=3.5.0 in /workspaces/langgraph/.venv/lib/python3.10/site-packages (from openai<2.0.0,>=1.26.0->langchain_openai) (4.4.0)\n",
      "Requirement already satisfied: distro<2,>=1.7.0 in /workspaces/langgraph/.venv/lib/python3.10/site-packages (from openai<2.0.0,>=1.26.0->langchain_openai) (1.9.0)\n",
      "Requirement already satisfied: httpx<1,>=0.23.0 in /workspaces/langgraph/.venv/lib/python3.10/site-packages (from openai<2.0.0,>=1.26.0->langchain_openai) (0.27.0)\n",
      "Requirement already satisfied: sniffio in /workspaces/langgraph/.venv/lib/python3.10/site-packages (from openai<2.0.0,>=1.26.0->langchain_openai) (1.3.1)\n",
      "Requirement already satisfied: tqdm>4 in /workspaces/langgraph/.venv/lib/python3.10/site-packages (from openai<2.0.0,>=1.26.0->langchain_openai) (4.66.4)\n",
      "Requirement already satisfied: typing-extensions<5,>=4.7 in /workspaces/langgraph/.venv/lib/python3.10/site-packages (from openai<2.0.0,>=1.26.0->langchain_openai) (4.11.0)\n",
      "Requirement already satisfied: charset-normalizer<4,>=2 in /workspaces/langgraph/.venv/lib/python3.10/site-packages (from requests<3,>=2->langchain_community) (3.3.2)\n",
      "Requirement already satisfied: idna<4,>=2.5 in /workspaces/langgraph/.venv/lib/python3.10/site-packages (from requests<3,>=2->langchain_community) (3.7)\n",
      "Requirement already satisfied: urllib3<3,>=1.21.1 in /workspaces/langgraph/.venv/lib/python3.10/site-packages (from requests<3,>=2->langchain_community) (2.2.1)\n",
      "Requirement already satisfied: certifi>=2017.4.17 in /workspaces/langgraph/.venv/lib/python3.10/site-packages (from requests<3,>=2->langchain_community) (2024.2.2)\n",
      "Requirement already satisfied: greenlet!=0.4.17 in /workspaces/langgraph/.venv/lib/python3.10/site-packages (from SQLAlchemy<3,>=1.4->langchain_community) (3.0.3)\n",
      "Requirement already satisfied: regex>=2022.1.18 in /workspaces/langgraph/.venv/lib/python3.10/site-packages (from tiktoken<1,>=0.7->langchain_openai) (2024.5.15)\n",
      "Requirement already satisfied: exceptiongroup>=1.0.2 in /workspaces/langgraph/.venv/lib/python3.10/site-packages (from anyio<5,>=3.5.0->openai<2.0.0,>=1.26.0->langchain_openai) (1.2.1)\n",
      "Requirement already satisfied: httpcore==1.* in /workspaces/langgraph/.venv/lib/python3.10/site-packages (from httpx<1,>=0.23.0->openai<2.0.0,>=1.26.0->langchain_openai) (1.0.5)\n",
      "Requirement already satisfied: h11<0.15,>=0.13 in /workspaces/langgraph/.venv/lib/python3.10/site-packages (from httpcore==1.*->httpx<1,>=0.23.0->openai<2.0.0,>=1.26.0->langchain_openai) (0.14.0)\n",
      "Requirement already satisfied: jsonpointer>=1.9 in /workspaces/langgraph/.venv/lib/python3.10/site-packages (from jsonpatch<2.0,>=1.33->langchain-core<0.3,>=0.2->langgraph) (2.4)\n",
      "Requirement already satisfied: annotated-types>=0.4.0 in /workspaces/langgraph/.venv/lib/python3.10/site-packages (from pydantic<3,>=1->langchain<0.3.0,>=0.2.0->langchain_community) (0.6.0)\n",
      "Requirement already satisfied: pydantic-core==2.18.2 in /workspaces/langgraph/.venv/lib/python3.10/site-packages (from pydantic<3,>=1->langchain<0.3.0,>=0.2.0->langchain_community) (2.18.2)\n",
      "Requirement already satisfied: mypy-extensions>=0.3.0 in /workspaces/langgraph/.venv/lib/python3.10/site-packages (from typing-inspect<1,>=0.4.0->dataclasses-json<0.7,>=0.5.7->langchain_community) (1.0.0)\n",
      "Note: you may need to restart the kernel to use updated packages.\n"
     ]
    }
   ],
   "source": [
    "%pip install -U langgraph langchain_community langchain_openai tavily-python"
   ]
  },
  {
   "cell_type": "code",
   "execution_count": 2,
   "id": "4215f9fb-71ff-4d88-8484-f73174db5592",
   "metadata": {},
   "outputs": [],
   "source": [
    "import os\n",
    "import getpass\n",
    "\n",
    "\n",
    "def _set_if_undefined(var: str):\n",
    "    if not os.environ.get(var):\n",
    "        os.environ[var] = getpass.getpass(f\"{var}=\")\n",
    "\n",
    "\n",
    "os.environ[\"LANGCHAIN_TRACING_V2\"] = \"true\"\n",
    "os.environ[\"LANGCHAIN_PROJECT\"] = \"ReWOO\"\n",
    "_set_if_undefined(\"TAVILY_API_KEY\")\n",
    "_set_if_undefined(\"LANGCHAIN_API_KEY\")\n",
    "_set_if_undefined(\"OPENAI_API_KEY\")"
   ]
  },
  {
   "cell_type": "markdown",
   "id": "55239a14-a14d-4117-adb5-07199e1e5e16",
   "metadata": {},
   "source": [
    "**Graph State**: In LangGraph, every node updates a shared graph state. The state is the input to any node whenever it is invoked.\n",
    "\n",
    "Below, we will define a state dict to contain the task, plan, steps, and other variables."
   ]
  },
  {
   "cell_type": "code",
   "execution_count": 3,
   "id": "9a92c875-c20b-4b7e-9d88-61c62382f8e2",
   "metadata": {},
   "outputs": [],
   "source": [
    "from typing import TypedDict, List\n",
    "\n",
    "\n",
    "class ReWOO(TypedDict):\n",
    "    task: str\n",
    "    plan_string: str\n",
    "    steps: List\n",
    "    results: dict\n",
    "    result: str"
   ]
  },
  {
   "cell_type": "markdown",
   "id": "997f9181-41c0-4c44-937d-94bd3946a929",
   "metadata": {},
   "source": [
    "## 1. Planner\n",
    "\n",
    "The planner prompts an LLM to generate a plan in the form of a task list. The arguments to each task are strings that may contain special variables (`#E{0-9}+`) that are used for variable substitution from other task results.\n",
    "\n",
    "\n",
    "![ReWOO workflow](./img/rewoo-paper-workflow.png)\n",
    "\n",
    "Our example agent will have two tools: \n",
    "1. Google - a search engine (in this case Tavily)\n",
    "2. LLM - an LLM call to reason about previous outputs.\n",
    "\n",
    "The LLM tool receives less of the prompt context and so can be more token-efficient than the ReACT paradigm."
   ]
  },
  {
   "cell_type": "code",
   "execution_count": 4,
   "id": "c8836921-c89e-42b6-8c71-27aeaeac5368",
   "metadata": {},
   "outputs": [],
   "source": [
    "from langchain_openai import ChatOpenAI\n",
    "\n",
    "model = ChatOpenAI(temperature=0)"
   ]
  },
  {
   "cell_type": "code",
   "execution_count": 5,
   "id": "7e7faa92-30a1-4942-b3c7-acd3a7bfccbc",
   "metadata": {},
   "outputs": [],
   "source": [
    "prompt = \"\"\"For the following task, make plans that can solve the problem step by step. For each plan, indicate \\\n",
    "which external tool together with tool input to retrieve evidence. You can store the evidence into a \\\n",
    "variable #E that can be called by later tools. (Plan, #E1, Plan, #E2, Plan, ...)\n",
    "\n",
    "Tools can be one of the following:\n",
    "(1) Google[input]: Worker that searches results from Google. Useful when you need to find short\n",
    "and succinct answers about a specific topic. The input should be a search query.\n",
    "(2) LLM[input]: A pretrained LLM like yourself. Useful when you need to act with general\n",
    "world knowledge and common sense. Prioritize it when you are confident in solving the problem\n",
    "yourself. Input can be any instruction.\n",
    "\n",
    "For example,\n",
    "Task: Thomas, Toby, and Rebecca worked a total of 157 hours in one week. Thomas worked x\n",
    "hours. Toby worked 10 hours less than twice what Thomas worked, and Rebecca worked 8 hours\n",
    "less than Toby. How many hours did Rebecca work?\n",
    "Plan: Given Thomas worked x hours, translate the problem into algebraic expressions and solve\n",
    "with Wolfram Alpha. #E1 = WolframAlpha[Solve x + (2x − 10) + ((2x − 10) − 8) = 157]\n",
    "Plan: Find out the number of hours Thomas worked. #E2 = LLM[What is x, given #E1]\n",
    "Plan: Calculate the number of hours Rebecca worked. #E3 = Calculator[(2 ∗ #E2 − 10) − 8]\n",
    "\n",
    "Begin! \n",
    "Describe your plans with rich details. Each Plan should be followed by only one #E.\n",
    "\n",
    "Task: {task}\"\"\""
   ]
  },
  {
   "cell_type": "code",
   "execution_count": 6,
   "id": "72b4ab0f-7215-4f4b-9407-0ebad8b13b92",
   "metadata": {},
   "outputs": [],
   "source": [
    "task = \"what is the hometown of the 2024 australian open winner\""
   ]
  },
  {
   "cell_type": "code",
   "execution_count": 7,
   "id": "56ecb45b-ea76-4303-a4f3-51406fe8312a",
   "metadata": {},
   "outputs": [],
   "source": [
    "result = model.invoke(prompt.format(task=task))"
   ]
  },
  {
   "cell_type": "code",
   "execution_count": 8,
   "id": "8a733caa-d75b-422c-93aa-6ad913c995f3",
   "metadata": {},
   "outputs": [
    {
     "name": "stdout",
     "output_type": "stream",
     "text": [
      "Plan: Use Google to search for the winner of the 2024 Australian Open. #E1 = Google[2024 Australian Open winner]\n",
      "Plan: Once the winner is identified, search for their hometown using Google. #E2 = Google[hometown of 2024 Australian Open winner]\n"
     ]
    }
   ],
   "source": [
    "print(result.content)"
   ]
  },
  {
   "cell_type": "markdown",
   "id": "37166985-5bec-4615-bd40-54d16fd7b4ea",
   "metadata": {},
   "source": [
    "#### Planner Node\n",
    "\n",
    "To connect the planner to our graph, we will create a `get_plan` node that accepts the `ReWOO` state and returns with a state update for the\n",
    "`steps` and `plan_string` fields."
   ]
  },
  {
   "cell_type": "code",
   "execution_count": 9,
   "id": "f9f042b6-90d8-430f-abf3-04ad2bb047c7",
   "metadata": {},
   "outputs": [],
   "source": [
    "import re\n",
    "from langchain_core.prompts import ChatPromptTemplate\n",
    "\n",
    "# Regex to match expressions of the form E#... = ...[...]\n",
    "regex_pattern = r\"Plan:\\s*(.+)\\s*(#E\\d+)\\s*=\\s*(\\w+)\\s*\\[([^\\]]+)\\]\"\n",
    "prompt_template = ChatPromptTemplate.from_messages([(\"user\", prompt)])\n",
    "planner = prompt_template | model\n",
    "\n",
    "\n",
    "def get_plan(state: ReWOO):\n",
    "    task = state[\"task\"]\n",
    "    result = planner.invoke({\"task\": task})\n",
    "    # Find all matches in the sample text\n",
    "    matches = re.findall(regex_pattern, result.content)\n",
    "    return {\"steps\": matches, \"plan_string\": result.content}"
   ]
  },
  {
   "cell_type": "markdown",
   "id": "0d97942f-27d3-4761-b6cc-6614dbb90c77",
   "metadata": {},
   "source": [
    "## 2. Executor\n",
    "\n",
    "The executor receives the plan and executes the tools in sequence.\n",
    "\n",
    "Below, instantiate the search engine and define the toole execution node."
   ]
  },
  {
   "cell_type": "code",
   "execution_count": 10,
   "id": "3412cfc4-6796-4295-aea4-7eeb304e10bd",
   "metadata": {},
   "outputs": [],
   "source": [
    "from langchain_community.tools.tavily_search import TavilySearchResults\n",
    "\n",
    "search = TavilySearchResults()"
   ]
  },
  {
   "cell_type": "code",
   "execution_count": 12,
   "id": "aa96fbac-28bc-4afe-ae35-ddb3383d1147",
   "metadata": {},
   "outputs": [],
   "source": [
    "def _get_current_task(state: ReWOO):\n",
    "    if state[\"results\"] is None:\n",
    "        return 1\n",
    "    if len(state[\"results\"]) == len(state[\"steps\"]):\n",
    "        return None\n",
    "    else:\n",
    "        return len(state[\"results\"]) + 1\n",
    "\n",
    "\n",
    "def tool_execution(state: ReWOO):\n",
    "    \"\"\"Worker node that executes the tools of a given plan.\"\"\"\n",
    "    _step = _get_current_task(state)\n",
    "    _, step_name, tool, tool_input = state[\"steps\"][_step - 1]\n",
    "    _results = state[\"results\"] or {}\n",
    "    for k, v in _results.items():\n",
    "        tool_input = tool_input.replace(k, v)\n",
    "    if tool == \"Google\":\n",
    "        result = search.invoke(tool_input)\n",
    "    elif tool == \"LLM\":\n",
    "        result = model.invoke(tool_input)\n",
    "    else:\n",
    "        raise ValueError\n",
    "    _results[step_name] = str(result)\n",
    "    return {\"results\": _results}"
   ]
  },
  {
   "cell_type": "markdown",
   "id": "28e20b31-d721-470d-94d2-db0c177fae75",
   "metadata": {},
   "source": [
    "## 3. Solver\n",
    "\n",
    "The solver receives the full plan and generates the final response based on the responses of the tool calls from the worker."
   ]
  },
  {
   "cell_type": "code",
   "execution_count": 19,
   "id": "0a4d9851-8590-42be-8c53-9969ebff85f4",
   "metadata": {},
   "outputs": [],
   "source": [
    "solve_prompt = \"\"\"Solve the following task or problem. To solve the problem, we have made step-by-step Plan and \\\n",
    "retrieved corresponding Evidence to each Plan. Use them with caution since long evidence might \\\n",
    "contain irrelevant information.\n",
    "\n",
    "{plan}\n",
    "\n",
    "Now solve the question or task according to provided Evidence above. Respond with the answer\n",
    "directly with no extra words.\n",
    "\n",
    "Task: {task}\n",
    "Response:\"\"\"\n",
    "\n",
    "\n",
    "def solve(state: ReWOO):\n",
    "    plan = \"\"\n",
    "    for _plan, step_name, tool, tool_input in state[\"steps\"]:\n",
    "        _results = state[\"results\"] or {}\n",
    "        for k, v in _results.items():\n",
    "            tool_input = tool_input.replace(k, v)\n",
    "            step_name = step_name.replace(k, v)\n",
    "        plan += f\"Plan: {_plan}\\n{step_name} = {tool}[{tool_input}]\"\n",
    "    prompt = solve_prompt.format(plan=plan, task=state[\"task\"])\n",
    "    result = model.invoke(prompt)\n",
    "    return {\"result\": result.content}"
   ]
  },
  {
   "cell_type": "markdown",
   "id": "8ce26c3f-6ced-4a91-a9f2-d0bc235e4010",
   "metadata": {},
   "source": [
    "## 4. Define Graph\n",
    "\n",
    "Our graph defines the workflow. Each of the planner, tool executor, and solver modules are added as nodes."
   ]
  },
  {
   "cell_type": "code",
   "execution_count": 20,
   "id": "73b235d7-fa83-4e84-9f2e-2908f16deb26",
   "metadata": {},
   "outputs": [],
   "source": [
    "def _route(state):\n",
    "    _step = _get_current_task(state)\n",
    "    if _step is None:\n",
    "        # We have executed all tasks\n",
    "        return \"solve\"\n",
    "    else:\n",
    "        # We are still executing tasks, loop back to the \"tool\" node\n",
    "        return \"tool\""
   ]
  },
  {
   "cell_type": "code",
   "execution_count": 21,
   "id": "cf173aa1-ce31-4dca-8111-30c91e209652",
   "metadata": {},
   "outputs": [],
   "source": [
    "from langgraph.graph import StateGraph, END\n",
    "\n",
    "graph = StateGraph(ReWOO)\n",
    "graph.add_node(\"plan\", get_plan)\n",
    "graph.add_node(\"tool\", tool_execution)\n",
    "graph.add_node(\"solve\", solve)\n",
    "graph.add_edge(\"plan\", \"tool\")\n",
    "graph.add_edge(\"solve\", END)\n",
    "graph.add_conditional_edges(\"tool\", _route)\n",
    "graph.set_entry_point(\"plan\")\n",
    "\n",
    "app = graph.compile()"
   ]
  },
  {
   "cell_type": "code",
   "execution_count": 22,
   "id": "bf8c2920",
   "metadata": {},
   "outputs": [
    {
     "data": {
      "text/plain": [
       "'what is the hometown of the 2024 australian open winner'"
      ]
     },
     "execution_count": 22,
     "metadata": {},
     "output_type": "execute_result"
    }
   ],
   "source": [
    "task"
   ]
  },
  {
   "cell_type": "code",
   "execution_count": 23,
   "id": "badaca52-5d55-433f-8770-1bd50c10bf7f",
   "metadata": {},
   "outputs": [
    {
     "name": "stdout",
     "output_type": "stream",
     "text": [
      "{'plan': {'plan_string': 'Plan: Use Google to search for the winner of the 2024 Australian Open. #E1 = Google[2024 Australian Open winner]\\nPlan: Once the winner is identified, search for their hometown using Google. #E2 = Google[hometown of 2024 Australian Open winner]', 'steps': [('Use Google to search for the winner of the 2024 Australian Open. ', '#E1', 'Google', '2024 Australian Open winner'), ('Once the winner is identified, search for their hometown using Google. ', '#E2', 'Google', 'hometown of 2024 Australian Open winner')]}}\n",
      "---\n",
      "{'tool': {'results': {'#E1': '[{\\'url\\': \\'https://ausopen.com/articles/news/sinner-v-medvedev-how-ao-2024-mens-final-was-decided\\', \\'content\\': \"MORE: All the stats from the AO 2024 men’s final\\\\nDaniil Medvedev could not maintain his scintillating start on Sunday night, while first-time major finalist Jannik Sinner simply grew in strength as the five-set contest progressed.\\\\nSinner, winner: Italian takes first major at AO 2024\\\\nNEWS\\\\nSinner, the morning after: “It\\'s great emotions, slowly realising what I\\'ve done”\\\\nNEWS\\\\n Sinner v Medvedev: How the AO 2024 men\\'s final was decided\\\\nJannik Sinner weathered an early onslaught to reel in Daniil Medvedev, growing in potency to win the Australian Open 2024 final – his first Grand Slam singles title.\\\\n Early in the second set Medvedev was averaging 77 per cent of first serves in for the match, and towards the end of it this figure had dipped to 65. Medvedev had spent more than 20 hours on court in his previous six rounds, the equivalent of almost two more matches than Sinner (who had spent less than 15 hours on court in advancing to the final).\\\\n During the shift, Sinner’s forehand was gathering speed, having increased from an average of 122.3 km/h in the first set to 128.7 km/h by the third.\\\\n\"}, {\\'url\\': \\'https://ausopen.com/articles/news/sinner-winner-italian-takes-first-major-ao-2024\\', \\'content\\': \\'The agile right-hander, who had claimed victory from a two-set deficit only once previously in his young career, is the second Italian man to achieve singles glory at a major, following Adriano Panatta in1976.With victories over Andrey Rublev, 10-time AO champion Novak Djokovic, and Medvedev, the Italian is the youngest player to defeat top 5 opponents in the final three matches of a major since Michael Stich did it at Wimbledon in 1991 – just weeks before Sinner was born.\\\\n He saved the only break he faced with an ace down the tee, and helped by scoreboard pressure, broke Medvedev by slamming a huge forehand to force an error from his more experienced rival, sealing the fourth set to take the final to a decider.\\\\n Sensing a shift in momentum as Medvedev served to close out the second at 5-3, Sinner set the RLA crowd alight with a pair of brilliant passing shots en route to creating a break point opportunity, which Medvedev snuffed out with trademark patience, drawing a forehand error from his opponent. “We are trying to get better every day, even during the tournament we try to get stronger, trying to understand every situation a little bit better, and I’m so glad to have you there supporting me, understanding me, which sometimes it’s not easy because I am a little bit young sometimes,” he said with a smile.\\\\n Medvedev, who held to love in his first three service games of the second set, piled pressure on the Italian, forcing the right-hander to produce his best tennis to save four break points in a nearly 12-minute second game.\\\\n\\'}, {\\'url\\': \\'https://www.youtube.com/watch?v=FQxTbCczz-g\\', \\'content\\': \\'The moment Jannik Sinner won his first Grand Slam title after beating Daniil Medvedev in the final of the Australian Open 2024.Subscribe to keep up with the ...\\'}, {\\'url\\': \\'https://www.cnn.com/2024/01/28/sport/jannik-sinner-daniil-medvedev-2024-australian-open-spt-intl/index.html\\', \\'content\\': \\'Related article\\\\nMeet the Carota Boys, the carrot-clad fan group rooting for Jannik Sinner, Italy’s rising tennis star\\\\nSuch drama provided a fitting finale for a tournament which has featured an incredible 35 five-set thrillers, equaling the Open Era record for any grand slam, as Medvedev raced to a two-set lead, initially heaping pressure on the young Italian who was left defending from every corner of the court in the wake of the No. 3 seed’s precise, aggressive approach.\\\\n CNN values your feedback\\\\nJannik Sinner rallies from two sets down to win men’s Australian Open final over Daniil Medvedev, his first grand slam title\\\\nFollow:\\\\nJannik Sinner overcame a two-set deficit to defeat Russia’s Daniil Medvedev 3-6 3-6 6-4 6-4 6-3 in a thrilling five-set final and claim the men’s Australian Open title on Sunday, becoming the first Italian man to win a grand slam since 1976.\\\\n While Sinner was appearing in his first ever grand slam final, Medvedev is already a grand slam champion who was playing in his fourth major final and that disparity in experience initally showed as the Russian controlled the pace of the match with 14 winners and five aces in the first set.\\\\n As Medvedev tired, Sinner took control of the match and sealed a crucial break point early in the fifth set with a crosscourt forehand winner before completing his remarkable comeback with a forehand down the line, falling to the floor immediately afterwards to celebrate a stunning maiden grand slam title.\\\\n That momentum carried Sinner through the fourth and fifth sets as he overturned the deficit and became the youngest male player to win the Australian Open since 2008, as well as just the third Italian man to ever win a grand slam.\\\\n\\'}, {\\'url\\': \\'https://www.bbc.com/sport/tennis/68120937\\', \\'content\\': \\'Live scores, results and order of play\\\\nAlerts: Get tennis news sent to your phone\\\\nRelated Topics\\\\nTop Stories\\\\nFA Cup: Blackburn Rovers v Wrexham - live text commentary\\\\nRussian skater Valieva given four-year ban for doping\\\\nLinks to Barcelona are \\\\\\'totally untrue\\\\\\' - Arteta\\\\nElsewhere on the BBC\\\\nThe truth behind the fake grooming scandal\\\\nFeaturing unseen police footage and interviews with the officers at the heart of the case\\\\nDid their father and uncle kill Nazi war criminals?\\\\n A real-life murder mystery following three brothers in their quest for the truth\\\\nWhat was it like to travel on the fastest plane?\\\\nTake a behind-the-scenes look at the supersonic story of the Concorde\\\\nToxic love, ruthless ambition and shocking betrayal\\\\nTell Me Lies follows a passionate college relationship with unimaginable consequences...\\\\n \"\\\\nMarathon man Medvedev runs out of steam\\\\nMedvedev is the first player to lose two Grand Slam finals after winning the opening two sets\\\\nSo many players with the experience of a Grand Slam final have talked about how different the occasion can be, particularly if it is the first time, and potentially overwhelming.\\\\n Jannik Sinner beats Daniil Medvedev in Melbourne final\\\\nJannik Sinner is the youngest player to win the Australian Open men\\\\\\'s title since Novak Djokovic in 2008\\\\nJannik Sinner landed the Grand Slam title he has long promised with an extraordinary fightback to beat Daniil Medvedev in the Australian Open final.\\\\n \"\\\\nSinner starts 2024 in inspired form\\\\nSinner won the first Australian Open men\\\\\\'s final since 2005 which did not feature Roger Federer, Rafael Nadal or Novak Djokovic\\\\nSinner was brought to the forefront of conversation when discussing Grand Slam champions in 2024 following a stunning end to last season.\\\\n\\'}]'}}}\n",
      "---\n",
      "{'tool': {'results': {'#E1': '[{\\'url\\': \\'https://ausopen.com/articles/news/sinner-v-medvedev-how-ao-2024-mens-final-was-decided\\', \\'content\\': \"MORE: All the stats from the AO 2024 men’s final\\\\nDaniil Medvedev could not maintain his scintillating start on Sunday night, while first-time major finalist Jannik Sinner simply grew in strength as the five-set contest progressed.\\\\nSinner, winner: Italian takes first major at AO 2024\\\\nNEWS\\\\nSinner, the morning after: “It\\'s great emotions, slowly realising what I\\'ve done”\\\\nNEWS\\\\n Sinner v Medvedev: How the AO 2024 men\\'s final was decided\\\\nJannik Sinner weathered an early onslaught to reel in Daniil Medvedev, growing in potency to win the Australian Open 2024 final – his first Grand Slam singles title.\\\\n Early in the second set Medvedev was averaging 77 per cent of first serves in for the match, and towards the end of it this figure had dipped to 65. Medvedev had spent more than 20 hours on court in his previous six rounds, the equivalent of almost two more matches than Sinner (who had spent less than 15 hours on court in advancing to the final).\\\\n During the shift, Sinner’s forehand was gathering speed, having increased from an average of 122.3 km/h in the first set to 128.7 km/h by the third.\\\\n\"}, {\\'url\\': \\'https://ausopen.com/articles/news/sinner-winner-italian-takes-first-major-ao-2024\\', \\'content\\': \\'The agile right-hander, who had claimed victory from a two-set deficit only once previously in his young career, is the second Italian man to achieve singles glory at a major, following Adriano Panatta in1976.With victories over Andrey Rublev, 10-time AO champion Novak Djokovic, and Medvedev, the Italian is the youngest player to defeat top 5 opponents in the final three matches of a major since Michael Stich did it at Wimbledon in 1991 – just weeks before Sinner was born.\\\\n He saved the only break he faced with an ace down the tee, and helped by scoreboard pressure, broke Medvedev by slamming a huge forehand to force an error from his more experienced rival, sealing the fourth set to take the final to a decider.\\\\n Sensing a shift in momentum as Medvedev served to close out the second at 5-3, Sinner set the RLA crowd alight with a pair of brilliant passing shots en route to creating a break point opportunity, which Medvedev snuffed out with trademark patience, drawing a forehand error from his opponent. “We are trying to get better every day, even during the tournament we try to get stronger, trying to understand every situation a little bit better, and I’m so glad to have you there supporting me, understanding me, which sometimes it’s not easy because I am a little bit young sometimes,” he said with a smile.\\\\n Medvedev, who held to love in his first three service games of the second set, piled pressure on the Italian, forcing the right-hander to produce his best tennis to save four break points in a nearly 12-minute second game.\\\\n\\'}, {\\'url\\': \\'https://www.youtube.com/watch?v=FQxTbCczz-g\\', \\'content\\': \\'The moment Jannik Sinner won his first Grand Slam title after beating Daniil Medvedev in the final of the Australian Open 2024.Subscribe to keep up with the ...\\'}, {\\'url\\': \\'https://www.cnn.com/2024/01/28/sport/jannik-sinner-daniil-medvedev-2024-australian-open-spt-intl/index.html\\', \\'content\\': \\'Related article\\\\nMeet the Carota Boys, the carrot-clad fan group rooting for Jannik Sinner, Italy’s rising tennis star\\\\nSuch drama provided a fitting finale for a tournament which has featured an incredible 35 five-set thrillers, equaling the Open Era record for any grand slam, as Medvedev raced to a two-set lead, initially heaping pressure on the young Italian who was left defending from every corner of the court in the wake of the No. 3 seed’s precise, aggressive approach.\\\\n CNN values your feedback\\\\nJannik Sinner rallies from two sets down to win men’s Australian Open final over Daniil Medvedev, his first grand slam title\\\\nFollow:\\\\nJannik Sinner overcame a two-set deficit to defeat Russia’s Daniil Medvedev 3-6 3-6 6-4 6-4 6-3 in a thrilling five-set final and claim the men’s Australian Open title on Sunday, becoming the first Italian man to win a grand slam since 1976.\\\\n While Sinner was appearing in his first ever grand slam final, Medvedev is already a grand slam champion who was playing in his fourth major final and that disparity in experience initally showed as the Russian controlled the pace of the match with 14 winners and five aces in the first set.\\\\n As Medvedev tired, Sinner took control of the match and sealed a crucial break point early in the fifth set with a crosscourt forehand winner before completing his remarkable comeback with a forehand down the line, falling to the floor immediately afterwards to celebrate a stunning maiden grand slam title.\\\\n That momentum carried Sinner through the fourth and fifth sets as he overturned the deficit and became the youngest male player to win the Australian Open since 2008, as well as just the third Italian man to ever win a grand slam.\\\\n\\'}, {\\'url\\': \\'https://www.bbc.com/sport/tennis/68120937\\', \\'content\\': \\'Live scores, results and order of play\\\\nAlerts: Get tennis news sent to your phone\\\\nRelated Topics\\\\nTop Stories\\\\nFA Cup: Blackburn Rovers v Wrexham - live text commentary\\\\nRussian skater Valieva given four-year ban for doping\\\\nLinks to Barcelona are \\\\\\'totally untrue\\\\\\' - Arteta\\\\nElsewhere on the BBC\\\\nThe truth behind the fake grooming scandal\\\\nFeaturing unseen police footage and interviews with the officers at the heart of the case\\\\nDid their father and uncle kill Nazi war criminals?\\\\n A real-life murder mystery following three brothers in their quest for the truth\\\\nWhat was it like to travel on the fastest plane?\\\\nTake a behind-the-scenes look at the supersonic story of the Concorde\\\\nToxic love, ruthless ambition and shocking betrayal\\\\nTell Me Lies follows a passionate college relationship with unimaginable consequences...\\\\n \"\\\\nMarathon man Medvedev runs out of steam\\\\nMedvedev is the first player to lose two Grand Slam finals after winning the opening two sets\\\\nSo many players with the experience of a Grand Slam final have talked about how different the occasion can be, particularly if it is the first time, and potentially overwhelming.\\\\n Jannik Sinner beats Daniil Medvedev in Melbourne final\\\\nJannik Sinner is the youngest player to win the Australian Open men\\\\\\'s title since Novak Djokovic in 2008\\\\nJannik Sinner landed the Grand Slam title he has long promised with an extraordinary fightback to beat Daniil Medvedev in the Australian Open final.\\\\n \"\\\\nSinner starts 2024 in inspired form\\\\nSinner won the first Australian Open men\\\\\\'s final since 2005 which did not feature Roger Federer, Rafael Nadal or Novak Djokovic\\\\nSinner was brought to the forefront of conversation when discussing Grand Slam champions in 2024 following a stunning end to last season.\\\\n\\'}]', '#E2': '[{\\'url\\': \\'https://en.wikipedia.org/wiki/2024_Australian_Open\\', \\'content\\': \"The tournament featured the following changes from previous tournaments:[9]\\\\nSingles players[edit]\\\\nEvents[edit]\\\\nMen\\'s singles[edit]\\\\nWomen\\'s singles[edit]\\\\nMen\\'s doubles[edit]\\\\nWomen\\'s doubles[edit]\\\\nMixed doubles[edit]\\\\nWheelchair men\\'s singles[edit]\\\\nWheelchair women\\'s singles[edit]\\\\nWheelchair quad singles[edit]\\\\nWheelchair men\\'s doubles[edit]\\\\nWheelchair women\\'s doubles[edit]\\\\nWheelchair quad doubles[edit]\\\\nBoys\\' singles[edit]\\\\nGirls\\' singles[edit]\\\\nBoys\\' doubles[edit]\\\\nGirls\\' doubles[edit]\\\\nPoints and prize money[edit]\\\\nPoint distribution[edit]\\\\nBelow is a series of tables for each competition showing the ranking points offered for each event.[12][13][14]\\\\nPrize money[edit]\\\\nThe Australian Open total prize money for 2024 increased by 13.07% year on year to a tournament record A$86,500,000. Aryna Sabalenka successfully defended the women\\'s singles title as she claimed her second major singles title, defeating Zheng Qinwen without losing a set during the tournament.[6][7]\\\\nIn the tournament\\'s 119-year history, this was the first Australian Open Tennis Championships to be held on an opening Sunday.[8]\\\\n It was the 112th edition of the Australian Open, the 56th in the Open Era, and the first major of the year. The total represented a 162% increase in prize money over the last ten years, from the A$33 million on offer in 2014.\\\\n Contents\\\\n2024 Australian Open\\\\nThe 2024 Australian Open was a Grand Slam level tennis tournament held at Melbourne Park, from 14–28 January 2024.[1]\"}, {\\'url\\': \\'https://www.vogue.com/article/jannik-sinner-wins-first-grand-slam-2024-australian-open\\', \\'content\\': \\'Jannik Sinner Steals His First Grand Slam at the 2024 Australian Open\\\\nBy Vogue\\\\nJannik Sinner of Italy clinched the 2024 Australian Open men’s singles title on Sunday in a five-set upset over Daniil Medvedev of Russia, 3-6, 3-6, 6-4, 6-4, 6-3 to close out a rollicking two weeks of tennis that saw some 1.1 million fans fill the stands in Melbourne. Yet 22-year-old Sinner—the tournament’s fourth seed, who forced a shocking exit from Djokovic during the semis on Thursday in a decisive four sets—came roaring onto the board in the third, moving in as Medvedev’s game became more passive and fending off even a single break point.\\\\n Third-seeded Medvedev, 28—who faced down grueling five-set matches in both the quarterfinals (opposite Hubert Hurkacz) and semifinals (opposite Alexander Zverev) on his way to today’s final—was all but unstoppable in the first two sets, covering the Rod Laver Arena’s hardcourt with speed and aggression. After a fourth set filled with lengthy rallies—and a few thrilling aces from Sinner—a break from the Italian sent the match to a fifth. He then thanked his colorful fans in Australia and beyond—a group that includes, mostly visibly, the Carota Boys—for keeping him going over the last two weeks.\\'}, {\\'url\\': \"https://en.wikipedia.org/wiki/2024_Australian_Open_–_Men\\'s_singles_final\", \\'content\\': \"This was the first Australian Open final since 2005 not to feature any of the Big Three members.[5]\\\\nMedvedev set an Open Era record for the most time spent playing at a singles major, at 24 hours and 17 minutes.[6] Medvedev also became the first player in the Open Era to lose two major finals after having a two-set lead.[7]\\\\nBackground[edit]\\\\nEntering the final, Medvedev lead the career head-to-head 6–3. He became the second Italian man in the Open Era to win a singles major, after Adriano Panatta at the 1976 French Open,[2] and the first new Australian Open champion in ten years, since Stan Wawrinka in 2014.[3] At 22, Sinner was the youngest Australian Open men\\'s singles champion and finalist since Novak Djokovic in 2008.[4] Contents\\\\n2024 Australian Open – Men\\'s singles final\\\\nThe 2024 Australian Open Men\\'s Singles final was the championship tennis match of the men\\'s singles tournament at the 2024 Australian Open, contested by fourth-seed Jannik Sinner and third-seed Daniil Medvedev. Also in the semifinals, Medvedev came back from two-sets-to-love down against Alexander Zverev to reach a third Australian Open final.[9] Medvedev had already played two other five-set matches, against Emil Ruusuvuori in the second round (when he came back from two-sets-to-love down as well) and against Hubert Hurkacz in the quarterfinals.\\\\n Novak Djokovic, ending his 33-match winning streak at the Australian Open (dating back from the 2019 tournament), as well as marking the Serbian\\'s first-ever defeat in an Australian Open semifinal and his first defeat in any major semifinal since the 2019 French Open.\"}, {\\'url\\': \\'https://www.nine.com.au/sport/tennis/australian-open-final-2024-live-results-scores-mens-winner-daniil-medvedev-jannik-sinner-womens-doubles-updates-20240129-p5jcbe.html\\', \\'content\\': \"Australian Open day 15 schedule AEDT \\\\ufeffClick here for all live scores, fixtures and results across all cou Watch the 2024 Australian Open live and exclusive on Nine, 9Now and ad-free on Stan Sport. Women\\'s doubles\\\\ufeff fi. From 3pm: \\\\ufeff[11] Jelena Ostapenko (LAT)/Lyudmyla Kichenok (UKR) def by [2] Su-Wei Hsieh (TWN)/Elise Mertens (BEL) 6-1, 7-5. Men\\'s singles final\\\\ufeff\"}, {\\'url\\': \\'https://ausopen.com/articles/news/sinner-v-medvedev-how-ao-2024-mens-final-was-decided\\', \\'content\\': \"MORE: All the stats from the AO 2024 men’s final\\\\nDaniil Medvedev could not maintain his scintillating start on Sunday night, while first-time major finalist Jannik Sinner simply grew in strength as the five-set contest progressed.\\\\nSinner, winner: Italian takes first major at AO 2024\\\\nNEWS\\\\nSinner, the morning after: “It\\'s great emotions, slowly realising what I\\'ve done”\\\\nNEWS\\\\n Sinner v Medvedev: How the AO 2024 men\\'s final was decided\\\\nJannik Sinner weathered an early onslaught to reel in Daniil Medvedev, growing in potency to win the Australian Open 2024 final – his first Grand Slam singles title.\\\\n Early in the second set Medvedev was averaging 77 per cent of first serves in for the match, and towards the end of it this figure had dipped to 65. Medvedev had spent more than 20 hours on court in his previous six rounds, the equivalent of almost two more matches than Sinner (who had spent less than 15 hours on court in advancing to the final).\\\\n During the shift, Sinner’s forehand was gathering speed, having increased from an average of 122.3 km/h in the first set to 128.7 km/h by the third.\\\\n\"}]'}}}\n",
      "---\n",
      "{'solve': {'result': 'The hometown of the 2024 Australian Open winner, Jannik Sinner, is Italy.'}}\n",
      "---\n"
     ]
    }
   ],
   "source": [
    "for s in app.stream({\"task\": task}):\n",
    "    print(s)\n",
    "    print(\"---\")"
   ]
  },
  {
   "cell_type": "code",
   "execution_count": 25,
   "id": "70e5aa0f-4d8b-4f65-817a-1c4ebf07d07a",
   "metadata": {},
   "outputs": [
    {
     "name": "stdout",
     "output_type": "stream",
     "text": [
      "The hometown of the 2024 Australian Open winner, Jannik Sinner, is Italy.\n"
     ]
    }
   ],
   "source": [
    "# Print out the final result\n",
    "print(s[\"solve\"][\"result\"])"
   ]
  },
  {
   "cell_type": "markdown",
   "id": "842954d7-0de0-4876-be63-46b4e14157b0",
   "metadata": {},
   "source": [
    "## Conclusion\n",
    "\n",
    "Congratulations on implementing ReWOO! Before you leave, I'll leave you with a couple limitations of the current implementation from the paper:\n",
    "\n",
    "1. If little context of the environment is available, the planner will be ineffective in its tool use. This can typically be ameliorated through few-shot prompting and/or fine-tuning.\n",
    "2. The tasks are still executed in sequence, meaning the total execution time is impacted by _every_ tool call, not just he longest-running in a given step."
   ]
  }
 ],
 "metadata": {
  "kernelspec": {
   "display_name": "Python 3 (ipykernel)",
   "language": "python",
   "name": "python3"
  },
  "language_info": {
   "codemirror_mode": {
    "name": "ipython",
    "version": 3
   },
   "file_extension": ".py",
   "mimetype": "text/x-python",
   "name": "python",
   "nbconvert_exporter": "python",
   "pygments_lexer": "ipython3",
   "version": "3.10.13"
  }
 },
 "nbformat": 4,
 "nbformat_minor": 5
}
