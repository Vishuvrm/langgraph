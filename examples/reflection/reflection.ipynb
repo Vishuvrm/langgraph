{
 "cells": [
  {
   "cell_type": "markdown",
   "id": "492f050f-3dc3-44fa-8fdc-03362afd5488",
   "metadata": {},
   "source": [
    "# Reflection\n",
    "\n",
    "\n",
    "In the context of LLM agent building, reflection refers to the process of prompting an LLM to observe its past steps (along with potential observations from tools/the environment) to assess the quality of the chosen actions.\n",
    "This is then used downstream for things like re-planning, search, or evaluation.\n",
    "\n",
    "![Reflection](./img/reflection.png)\n",
    "\n",
    "This notebook demonstrates a very simple form of reflection in LangGraph."
   ]
  },
  {
   "cell_type": "markdown",
   "id": "3ef94e7e-c9a5-4eee-a865-acf411b5c235",
   "metadata": {},
   "source": [
    "#### Prerequisites\n",
    "\n",
    "We will be using a basic agent with a search tool here."
   ]
  },
  {
   "cell_type": "code",
   "execution_count": 2,
   "id": "8b323f43-328b-4b4b-88b0-6c84dc0a1d60",
   "metadata": {},
   "outputs": [
    {
     "name": "stdout",
     "output_type": "stream",
     "text": [
      "Note: you may need to restart the kernel to use updated packages.\n",
      "Note: you may need to restart the kernel to use updated packages.\n",
      "Note: you may need to restart the kernel to use updated packages.\n"
     ]
    }
   ],
   "source": [
    "%pip install -U --quiet  langgraph langchain-fireworks\n",
    "%pip install -U --quiet tavily-python\n",
    "%pip install --upgrade --quiet  langchain-google-genai pillow"
   ]
  },
  {
   "cell_type": "code",
   "execution_count": 3,
   "id": "3368f330-cad6-4d35-a291-68fbf4389d98",
   "metadata": {},
   "outputs": [],
   "source": [
    "import getpass\n",
    "import os\n",
    "\n",
    "\n",
    "def _set_if_undefined(var: str) -> None:\n",
    "    if os.environ.get(var):\n",
    "        return\n",
    "    os.environ[var] = getpass.getpass(var)\n",
    "\n",
    "\n",
    "# Optional: Configure tracing to visualize and debug the agent\n",
    "_set_if_undefined(\"LANGCHAIN_API_KEY\")\n",
    "_set_if_undefined(\"GOOGLE_API_KEY\")\n",
    "os.environ[\"LANGCHAIN_TRACING_V2\"] = \"true\"\n",
    "os.environ[\"LANGCHAIN_PROJECT\"] = \"Reflection\"\n",
    "\n",
    "# _set_if_undefined(\"FIREWORKS_API_KEY\")"
   ]
  },
  {
   "cell_type": "markdown",
   "id": "f27bcc4a-aaa5-46bd-8163-3e0e90cb66e6",
   "metadata": {},
   "source": [
    "## Generate\n",
    "\n",
    "For our example, we will create a \"5 paragraph essay\" generator. First, create the generator:\n"
   ]
  },
  {
   "cell_type": "code",
   "execution_count": 4,
   "id": "cc10028f-9cef-4936-9419-cbdf06d24f1e",
   "metadata": {},
   "outputs": [
    {
     "name": "stderr",
     "output_type": "stream",
     "text": [
      "/workspaces/langgraph/.venv/lib/python3.10/site-packages/tqdm/auto.py:21: TqdmWarning: IProgress not found. Please update jupyter and ipywidgets. See https://ipywidgets.readthedocs.io/en/stable/user_install.html\n",
      "  from .autonotebook import tqdm as notebook_tqdm\n"
     ]
    }
   ],
   "source": [
    "from langchain_core.messages import AIMessage, BaseMessage, HumanMessage\n",
    "from langchain_core.prompts import ChatPromptTemplate, MessagesPlaceholder\n",
    "from langchain_fireworks import ChatFireworks\n",
    "from langchain_google_genai import ChatGoogleGenerativeAI\n",
    "\n",
    "prompt = ChatPromptTemplate.from_messages(\n",
    "    [\n",
    "        (\n",
    "            \"system\",\n",
    "            \"You are an essay assistant tasked with writing excellent 5-paragraph essays.\"\n",
    "            \" Generate the best essay possible for the user's request.\"\n",
    "            \" If the user provides critique, respond with a revised version of your previous attempts.\",\n",
    "        ),\n",
    "        MessagesPlaceholder(variable_name=\"messages\"),\n",
    "    ]\n",
    ")\n",
    "# llm = ChatFireworks(\n",
    "#     model=\"accounts/fireworks/models/mixtral-8x7b-instruct\",\n",
    "#     model_kwargs={\"max_tokens\": 32768},\n",
    "# )\n",
    "\n",
    "llm = ChatGoogleGenerativeAI(model=\"gemini-1.5-flash\")\n",
    "generate = prompt | llm"
   ]
  },
  {
   "cell_type": "code",
   "execution_count": 5,
   "id": "9bbe25dc-fd1e-4ed5-a3c8-fed830b46d12",
   "metadata": {},
   "outputs": [
    {
     "name": "stdout",
     "output_type": "stream",
     "text": [
      "## The Enduring Relevance of \"The Little Prince\" in Modern Childhood\n",
      "\n",
      "Antoine de Saint-Exupéry's \"The Little Prince\" is a timeless classic that continues to resonate with readers of all ages, particularly children. While the world has changed drastically since its publication in 1943, the themes explored in this poignant tale remain profoundly relevant to modern childhood. The story's enduring appeal lies in its ability to speak to the universal experiences of childhood, exploring themes of imagination, friendship, loss, and the search for meaning in a complex world. \n",
      "\n",
      "The Little Prince's journey across the cosmos allows children to embrace the power of imagination and wonder. His encounters with diverse planets and their inhabitants offer a unique perspective on the world, encouraging young readers to question the ordinary and explore the extraordinary. This emphasis on imagination is crucial in a world increasingly dominated by technology and instant gratification, where the power of creative thought can be easily overlooked. \n",
      "\n",
      "Furthermore, the narrative highlights the importance of genuine connection and friendship. The Little Prince's relationship with the aviator, marked by shared experiences and mutual understanding, serves as a powerful reminder of the value of human connection. In a society often characterized by isolation and virtual interaction, the story reminds children of the profound impact of genuine friendships and the joy of shared experiences.\n",
      "\n",
      "The Little Prince's journey also touches upon themes of loss and grief. His departure from his beloved rose and his encounters with the fox, who teaches him the importance of taming and responsibility, resonate with children who are navigating the complexities of growing up and facing the inevitable loss that comes with life. The story offers comfort and understanding, reminding children that even in the face of sadness, love and connection can provide solace and strength.\n",
      "\n",
      "In conclusion, \"The Little Prince\" remains relevant in modern childhood by offering a poignant and timeless exploration of universal experiences. Its emphasis on imagination, friendship, loss, and the search for meaning provides a valuable framework for navigating the complexities of growing up in a rapidly changing world. By encouraging children to embrace their imagination, cherish genuine connections, and find meaning in their experiences, \"The Little Prince\" continues to inspire and enlighten young readers, offering timeless wisdom for a modern world. \n"
     ]
    }
   ],
   "source": [
    "essay = \"\"\n",
    "request = HumanMessage(\n",
    "    content=\"Write an essay on why the little prince is relevant in modern childhood\"\n",
    ")\n",
    "for chunk in generate.stream({\"messages\": [request]}):\n",
    "    print(chunk.content, end=\"\")\n",
    "    essay += chunk.content"
   ]
  },
  {
   "cell_type": "markdown",
   "id": "b0b276e7-c392-4eec-be75-c77bd130379d",
   "metadata": {},
   "source": [
    "### Reflect"
   ]
  },
  {
   "cell_type": "code",
   "execution_count": 6,
   "id": "a705be92-88c0-4f4f-b4c2-cdcd9af8cb2c",
   "metadata": {},
   "outputs": [],
   "source": [
    "reflection_prompt = ChatPromptTemplate.from_messages(\n",
    "    [\n",
    "        (\n",
    "            \"system\",\n",
    "            \"You are a teacher grading an essay submission. Generate critique and recommendations for the user's submission.\"\n",
    "            \" Provide detailed recommendations, including requests for length, depth, style, etc.\",\n",
    "        ),\n",
    "        MessagesPlaceholder(variable_name=\"messages\"),\n",
    "    ]\n",
    ")\n",
    "reflect = reflection_prompt | llm"
   ]
  },
  {
   "cell_type": "code",
   "execution_count": 7,
   "id": "16c5eb2a-8bce-48ab-b87d-9dacb9b64ac6",
   "metadata": {},
   "outputs": [
    {
     "name": "stdout",
     "output_type": "stream",
     "text": [
      "This is a good start to an essay on the relevance of \"The Little Prince\" in modern childhood. You have identified several key themes and provided some insightful observations. However, there are areas where you can expand and strengthen your argument. \n",
      "\n",
      "Here are some recommendations:\n",
      "\n",
      "**1. Expand on Specific Examples:**\n",
      "\n",
      "* **Imagination:** Instead of just saying it's important, give specific examples of how the Little Prince's journey encourages imagination. For instance, discuss how the planets and their inhabitants (like the king, the conceited man, or the lamplighter) stimulate the reader's imagination. How does this relate to modern children's need for creativity in a world dominated by technology?\n",
      "* **Friendship:**  Elaborate on the relationship between the Little Prince and the aviator. How does it illustrate the value of genuine connection and how does this relate to the challenges of building friendships in a digital age? \n",
      "* **Loss and Grief:**  Dive deeper into the Prince's relationship with the rose and the fox. How do these encounters help children understand the complexities of love, loss, and responsibility? \n",
      "\n",
      "**2. Provide Concrete Connections to Modern Childhood:**\n",
      "\n",
      "* **Technology:**  How does \"The Little Prince\" offer a counterpoint to the digital world and its potential for isolation and shallow connections? \n",
      "* **Social Media:** How might the story's emphasis on genuine connection relate to the pressures and anxieties children face in the age of social media?\n",
      "* **Consumerism:**  How does the story challenge the materialistic values often promoted to children?\n",
      "\n",
      "**3. Consider a Counterargument:**\n",
      "\n",
      "* Briefly address potential arguments against the book's relevance. For example, some might argue that the story is outdated or that its themes are not relatable to modern children. Acknowledge these perspectives and then offer a strong rebuttal.\n",
      "\n",
      "**4. Strengthen Your Conclusion:**\n",
      "\n",
      "* Reiterate the key points of your essay but make the conclusion more impactful.  Consider a call to action or a final thought-provoking statement that leaves a lasting impression on the reader.\n",
      "\n",
      "**5. Length and Style:**\n",
      "\n",
      "* While the essay is a good starting point, it could benefit from being slightly longer (around 500-750 words). This will allow you to develop your arguments more fully.\n",
      "* Use more vivid language and engaging examples.  Think about how you can make your writing more captivating for the reader.\n",
      "\n",
      "**Overall, this is a good start to a compelling essay. By expanding on your examples, providing concrete connections to modern childhood, and strengthening your conclusion, you can create a truly insightful and thought-provoking analysis of the enduring relevance of \"The Little Prince.\"** \n"
     ]
    }
   ],
   "source": [
    "reflection = \"\"\n",
    "for chunk in reflect.stream({\"messages\": [request, HumanMessage(content=essay)]}):\n",
    "    print(chunk.content, end=\"\")\n",
    "    reflection += chunk.content"
   ]
  },
  {
   "cell_type": "markdown",
   "id": "6daf926c-1174-4e96-91b9-57c57cfce40d",
   "metadata": {},
   "source": [
    "### Repeat\n",
    "\n",
    "And... that's all there is too it! You can repeat in a loop for a fixed number of steps, or use an LLM (or other check) to decide when the finished product is good enough."
   ]
  },
  {
   "cell_type": "code",
   "execution_count": 8,
   "id": "dfbf99a8-3aa0-4e09-936e-8452c35fa84d",
   "metadata": {},
   "outputs": [
    {
     "name": "stdout",
     "output_type": "stream",
     "text": [
      "## The Little Prince: A Timeless Guide for Modern Childhood\n",
      "\n",
      "Antoine de Saint-Exupéry's \"The Little Prince\" is more than just a charming children's story; it's a timeless masterpiece that speaks directly to the heart of childhood, even in our increasingly complex and digital world. The story's enduring appeal lies in its exploration of universal themes like imagination, friendship, loss, and the search for meaning – themes that remain profoundly relevant to children navigating the challenges of modern life. \n",
      "\n",
      "The Little Prince's journey across the cosmos is a powerful testament to the importance of imagination. Each planet he visits, from the king's tiny kingdom to the conceited man's vanity, and the lamplighter's endless task, sparks the reader's imagination, encouraging them to see the world with fresh eyes and question the ordinary. In a world saturated with technology, where instant gratification and virtual experiences often dominate, \"The Little Prince\" reminds children of the power of creative thought and the joy of exploring the limitless possibilities of their own minds. \n",
      "\n",
      "The story also beautifully illustrates the value of genuine connection and friendship. The Little Prince's relationship with the aviator, born out of shared experiences and mutual understanding, transcends the superficiality of fleeting encounters. It offers a powerful counterpoint to the digital age, where online connections often lack depth and true intimacy. The story reminds children of the importance of nurturing real relationships, built on shared experiences, empathy, and trust. \n",
      "\n",
      "Furthermore, the Prince's encounters with the rose and the fox delve into the complexities of love, loss, and responsibility. His departure from his beloved rose, who represents the pain of separation and the bittersweet nature of love, resonates with children facing the challenges of growing up and experiencing loss. The fox's wisdom, teaching the Prince the importance of taming and responsibility, offers a poignant reminder that true connection requires time, care, and commitment, reminding children of the value of nurturing relationships and embracing the responsibilities that come with them.\n",
      "\n",
      "Some might argue that \"The Little Prince\" is outdated, its themes irrelevant to a generation raised on screens and social media. However, the story's timeless wisdom offers a powerful antidote to the pressures and anxieties of modern childhood. The Prince's journey challenges the materialistic values often promoted to children, reminding them that true happiness lies not in possessions or superficial validation, but in genuine connections, meaningful experiences, and the pursuit of inner peace.\n",
      "\n",
      "In conclusion, \"The Little Prince\" remains a vital guide for modern childhood. It encourages imagination, celebrates the power of genuine connection, and provides a framework for understanding the complexities of love, loss, and responsibility. By reminding children of the importance of embracing their own unique perspectives, cherishing real relationships, and finding meaning beyond the superficiality of the digital world, \"The Little Prince\" continues to inspire and enlighten generations of young readers, offering timeless wisdom for a modern world. \n"
     ]
    }
   ],
   "source": [
    "for chunk in generate.stream(\n",
    "    {\"messages\": [request, AIMessage(content=essay), HumanMessage(content=reflection)]}\n",
    "):\n",
    "    print(chunk.content, end=\"\")"
   ]
  },
  {
   "cell_type": "markdown",
   "id": "b63a9d93-a14d-4e41-a4bb-a4cd31713f44",
   "metadata": {},
   "source": [
    "## Define graph\n",
    "\n",
    "Now that we've shown each step in isolation, we can wire it up in a graph."
   ]
  },
  {
   "cell_type": "code",
   "execution_count": 9,
   "id": "9e9a9d7c-5d2e-4194-b745-4511ec20db76",
   "metadata": {},
   "outputs": [],
   "source": [
    "from typing import List, Sequence\n",
    "\n",
    "from langgraph.graph import END, MessageGraph\n",
    "\n",
    "\n",
    "async def generation_node(state: Sequence[BaseMessage]):\n",
    "    return await generate.ainvoke({\"messages\": state})\n",
    "\n",
    "\n",
    "async def reflection_node(messages: Sequence[BaseMessage]) -> List[BaseMessage]:\n",
    "    # Other messages we need to adjust\n",
    "    cls_map = {\"ai\": HumanMessage, \"human\": AIMessage}\n",
    "    # First message is the original user request. We hold it the same for all nodes\n",
    "    translated = [messages[0]] + [\n",
    "        cls_map[msg.type](content=msg.content) for msg in messages[1:]\n",
    "    ]\n",
    "    res = await reflect.ainvoke({\"messages\": translated})\n",
    "    # We treat the output of this as human feedback for the generator\n",
    "    return HumanMessage(content=res.content)\n",
    "\n",
    "\n",
    "builder = MessageGraph()\n",
    "builder.add_node(\"generate\", generation_node)\n",
    "builder.add_node(\"reflect\", reflection_node)\n",
    "builder.set_entry_point(\"generate\")\n",
    "\n",
    "\n",
    "def should_continue(state: List[BaseMessage]):\n",
    "    if len(state) > 6:\n",
    "        # End after 3 iterations\n",
    "        return END\n",
    "    return \"reflect\"\n",
    "\n",
    "\n",
    "builder.add_conditional_edges(\"generate\", should_continue)\n",
    "builder.add_edge(\"reflect\", \"generate\")\n",
    "graph = builder.compile()"
   ]
  },
  {
   "cell_type": "code",
   "execution_count": 10,
   "id": "06263a07-8a15-4ec3-b692-1c6cef3b1c1f",
   "metadata": {},
   "outputs": [
    {
     "name": "stdout",
     "output_type": "stream",
     "text": [
      "{'generate': AIMessage(content=\"## The Enduring Relevance of The Little Prince: A Timeless Tale for Modern Times\\n\\nAntoine de Saint-Exupéry's *The Little Prince* is a beloved children's book that transcends age and cultural boundaries. Published in 1943, the story of a young prince who travels from asteroid to asteroid, seeking meaning and connection, resonates deeply with readers of all ages. While the book may seem simplistic on the surface, its themes of imagination, love, and the importance of seeing the world with a childlike perspective remain profoundly relevant in the complexities of modern life.\\n\\nOne of the most enduring messages of *The Little Prince* is the importance of cherishing the power of imagination. The prince's journey is fueled by his unbridled curiosity and his ability to see beauty in the ordinary. He finds wonder in a simple rose, a volcanic mountain, and a fox's friendship. In a world increasingly dominated by technology and digital distractions, this reminder to cultivate our inner child and embrace the magic of the world around us is more vital than ever. We are encouraged to rediscover the joy of simple pleasures and the power of imagination in shaping our understanding of the world.\\n\\nThe prince's encounters with various characters throughout his journey also highlight the importance of human connection and the search for meaning in our lives. He learns about love and loss from the rose, about friendship and loyalty from the fox, and about the value of responsibility from the pilot. These interactions emphasize the need for genuine connection and the search for purpose in a world often characterized by isolation and superficiality. The prince's journey encourages readers to reflect on the meaning of their own lives and to seek connections that nourish their souls.\\n\\nThe themes of *The Little Prince* resonate deeply with the anxieties and challenges of modern life. The prince's journey, despite its fantastical nature, reflects the universal human experience of seeking meaning and purpose in a complex and often confusing world. The book challenges us to question our priorities, to re-evaluate our values, and to reconnect with the simple joys that often get overlooked in the hustle and bustle of daily life. It reminds us that true happiness lies not in material possessions or fleeting achievements, but in the cultivation of meaningful relationships and the pursuit of genuine connection.\\n\\nIn conclusion, *The Little Prince* remains a timeless classic for a reason. Its simple yet profound message about the importance of imagination, connection, and the search for meaning continues to resonate with readers of all ages. The book serves as a powerful reminder to embrace the beauty of the world around us, to cultivate our inner child, and to seek genuine connection in a world that often prioritizes the superficial. It is a testament to the enduring power of storytelling and its ability to inspire, challenge, and ultimately, remind us of the simple truths that truly matter in life. \\n\", response_metadata={'prompt_feedback': {'block_reason': 0, 'safety_ratings': []}, 'finish_reason': 'STOP', 'safety_ratings': [{'category': 'HARM_CATEGORY_SEXUALLY_EXPLICIT', 'probability': 'NEGLIGIBLE', 'blocked': False}, {'category': 'HARM_CATEGORY_HATE_SPEECH', 'probability': 'NEGLIGIBLE', 'blocked': False}, {'category': 'HARM_CATEGORY_HARASSMENT', 'probability': 'NEGLIGIBLE', 'blocked': False}, {'category': 'HARM_CATEGORY_DANGEROUS_CONTENT', 'probability': 'NEGLIGIBLE', 'blocked': False}]}, id='run-03b467e1-cccf-4d1e-bc72-712b4bd8bd37-0')}\n",
      "---\n",
      "{'reflect': HumanMessage(content='This is a good start to an essay on the enduring relevance of *The Little Prince*. You\\'ve identified some key themes and made a good attempt at connecting them to modern life. However, there are some areas where you could strengthen your analysis and argument. \\n\\nHere are some recommendations:\\n\\n**Structure and Organization:**\\n\\n* **Expand on your introduction:**  While you\\'ve introduced the book and its themes, you could strengthen your introduction by providing a more specific thesis statement.  For example, you could state: \"This essay will explore how *The Little Prince* continues to offer valuable insights into the human condition, particularly in the context of modern life, by examining its themes of imagination, connection, and the pursuit of meaning.\"\\n* **Develop each theme more thoroughly:**  You\\'ve briefly mentioned imagination, connection, and meaning, but you could dedicate a paragraph to each theme, providing specific examples from the text and connecting them to modern issues. \\n* **Strengthen your conclusion:**  Your conclusion summarizes the themes but could be more impactful.  Consider restating your thesis in a new way and offering a final thought-provoking statement about the book\\'s enduring relevance.\\n\\n**Content and Analysis:**\\n\\n* **Provide more specific examples:**  While you mention the rose, the fox, and the pilot, you could delve deeper into their significance. For example, how does the rose symbolize love and loss in a way that resonates with modern readers? What does the fox\\'s advice about taming and friendship offer in terms of connection and meaning in our digital age?\\n* **Address the complexities of modern life:**  You mention anxieties and challenges, but you could be more specific. For example, how does the prince\\'s journey speak to the increasing sense of loneliness and isolation in modern society? How does the book challenge consumerism and the pursuit of material wealth?\\n* **Consider counterarguments:**  While the book offers valuable insights, there might be some who argue that its message is outdated or overly simplistic. Briefly addressing such counterarguments could strengthen your analysis.\\n\\n**Style and Tone:**\\n\\n* **Vary your sentence structure:**  While your writing is clear, try to use a mix of sentence lengths and structures to make your writing more engaging.\\n* **Consider using more vivid language:**  You could use more descriptive language to bring the book\\'s themes to life. For example, instead of saying \"the prince finds wonder in a simple rose,\" you could write \"the prince is captivated by the delicate beauty of the rose, its velvety petals and intoxicating fragrance.\"\\n\\n**Length:**\\n\\n* **Aim for a longer essay:**  While this is a good start, a more in-depth analysis would require a longer essay. Aim for 5-7 paragraphs to fully develop your ideas.\\n\\n**Overall Recommendations:**\\n\\n* **Research and incorporate scholarly sources:**  To strengthen your analysis, consider researching scholarly articles or essays that have analyzed *The Little Prince* in relation to modern society.\\n* **Focus on a specific aspect of the book:**  Instead of discussing all the themes, you could focus on one or two that particularly resonate with you. For example, you could explore the book\\'s critique of consumerism or its message about the importance of mindfulness.\\n* **Read the book again:**  The more familiar you are with the text, the more insightful your analysis will be. \\n\\nBy following these recommendations, you can create a more compelling and insightful essay that explores the enduring relevance of *The Little Prince* in the modern world. \\n')}\n",
      "---\n",
      "{'generate': AIMessage(content='## The Little Prince: A Timeless Tale for a Disconnected World\\n\\nAntoine de Saint-Exupéry\\'s *The Little Prince*, a seemingly simple children\\'s book, continues to offer profound insights into the human condition, particularly in the context of modern life. This essay will explore how the book\\'s themes of imagination, connection, and the pursuit of meaning resonate deeply with the anxieties and challenges of our contemporary world. \\n\\nOne of the most poignant aspects of *The Little Prince* is its celebration of imagination and wonder. The prince\\'s journey is fueled by his insatiable curiosity and his ability to see beauty in the ordinary. He finds wonder in a simple rose, its delicate petals and intoxicating fragrance a testament to the power of nature. He marvels at the volcanic mountains, their fiery eruptions a symbol of life\\'s unpredictable forces. In a world increasingly dominated by technology and digital distractions, the prince\\'s childlike perspective serves as a potent reminder to cultivate our own inner child and rediscover the magic in the world around us. In a society that often prioritizes efficiency over experience, the prince\\'s journey encourages us to slow down, observe, and appreciate the beauty that surrounds us.\\n\\nThe prince\\'s encounters with various characters throughout his journey highlight the importance of human connection and the search for meaning in our lives.  His relationship with the fox, a symbol of wisdom and understanding, underscores the need for genuine connection and the power of taming, or nurturing, relationships. The fox\\'s advice to \"tame\" another being, by investing time and care, resonates deeply in our digital age, where superficial connections are often prioritized over meaningful ones. The prince\\'s journey, therefore, serves as a reminder to cultivate genuine connections, to invest in relationships that nourish our souls, and to seek meaning beyond the fleeting pleasures of the digital world.\\n\\nHowever, the prince\\'s journey also reflects the anxieties of our modern world.  His encounters with the conceited man, the drunkard, and the businessman, all consumed by their own pursuits,  mirror the consumerism and superficiality that often characterize modern society. The prince\\'s search for meaning is not always met with understanding or empathy, highlighting the loneliness and isolation that can permeate even in a world brimming with information and connections. This sense of disconnect resonates deeply with contemporary readers who may feel overwhelmed by the demands of modern life and struggle to find genuine connection and purpose.\\n\\n*The Little Prince* is not without its critics. Some argue that its message is simplistic or outdated, that its themes are not relevant in a world grappling with complex issues like climate change and social injustice. However, the book\\'s enduring popularity and its ability to resonate with readers across generations speaks to its timeless message.  The prince\\'s journey challenges us to question our priorities, to re-evaluate our values, and to reconnect with the simple joys that often get overlooked in the hustle and bustle of daily life. It reminds us that true happiness lies not in material possessions or fleeting achievements, but in the cultivation of meaningful relationships, the pursuit of genuine connection, and the rediscovery of the magic that lies within each of us. \\n\\n*The Little Prince* is more than just a children\\'s story; it is a timeless allegory that speaks to the human condition in all its complexities.  Its message about the importance of imagination, connection, and the search for meaning resonates deeply with the anxieties and challenges of modern life.  By embracing the simple truths of the book, we can find solace and guidance in a world that often feels overwhelming and disconnected. \\n', response_metadata={'prompt_feedback': {'block_reason': 0, 'safety_ratings': []}, 'finish_reason': 'STOP', 'safety_ratings': [{'category': 'HARM_CATEGORY_SEXUALLY_EXPLICIT', 'probability': 'NEGLIGIBLE', 'blocked': False}, {'category': 'HARM_CATEGORY_HATE_SPEECH', 'probability': 'NEGLIGIBLE', 'blocked': False}, {'category': 'HARM_CATEGORY_HARASSMENT', 'probability': 'NEGLIGIBLE', 'blocked': False}, {'category': 'HARM_CATEGORY_DANGEROUS_CONTENT', 'probability': 'NEGLIGIBLE', 'blocked': False}]}, id='run-4bce1fdf-bba0-4691-82ad-375d73772a4f-0')}\n",
      "---\n",
      "{'reflect': HumanMessage(content='This is a much stronger essay! You\\'ve made significant improvements in your analysis and structure, and your writing is more engaging. Here are some specific points of praise:\\n\\n* **Stronger Introduction:** You have a clear thesis statement that outlines the essay\\'s focus on the book\\'s relevance to modern life.\\n* **Developed Themes:** Each paragraph effectively explores a different theme, providing specific examples from the text and drawing connections to contemporary issues.\\n* **Vivid Language:** Your use of descriptive language, like \"delicate petals and intoxicating fragrance,\" helps bring the themes to life.\\n* **Engaging Conclusion:** Your conclusion effectively restates your thesis and offers a thought-provoking final statement about the book\\'s enduring message.\\n\\nHere are a few minor suggestions for further improvement:\\n\\n* **Counterargument Development:** While you mention critics of the book, you could expand on their arguments and offer a more nuanced response. For example, you could discuss how the book\\'s simplicity might be seen as a strength, offering a refreshing perspective in a complex world.\\n* **Transitional Phrases:** You could use more transitional phrases to smoothly connect your ideas between paragraphs. For example, you could use phrases like \"Furthermore,\" \"However,\" or \"In contrast\" to guide the reader through your argument.\\n* **Sentence Variety:** While your sentences are generally clear and concise, you could experiment with different sentence structures to add variety and impact.\\n\\nOverall, this is a well-written and insightful essay that effectively explores the enduring relevance of *The Little Prince* in the modern world. You have demonstrated a strong understanding of the book\\'s themes and their connection to contemporary issues. With a few minor adjustments, you can further enhance your analysis and make your essay even more compelling. \\n')}\n",
      "---\n",
      "{'generate': AIMessage(content='## The Little Prince: A Timeless Tale for a Disconnected World\\n\\nAntoine de Saint-Exupéry\\'s *The Little Prince*, a seemingly simple children\\'s book, continues to offer profound insights into the human condition, particularly in the context of modern life. This essay will explore how the book\\'s themes of imagination, connection, and the pursuit of meaning resonate deeply with the anxieties and challenges of our contemporary world. \\n\\nOne of the most poignant aspects of *The Little Prince* is its celebration of imagination and wonder. The prince\\'s journey is fueled by his insatiable curiosity and his ability to see beauty in the ordinary. He finds wonder in a simple rose, its delicate petals and intoxicating fragrance a testament to the power of nature. He marvels at the volcanic mountains, their fiery eruptions a symbol of life\\'s unpredictable forces. In a world increasingly dominated by technology and digital distractions, the prince\\'s childlike perspective serves as a potent reminder to cultivate our own inner child and rediscover the magic in the world around us. In a society that often prioritizes efficiency over experience, the prince\\'s journey encourages us to slow down, observe, and appreciate the beauty that surrounds us.\\n\\nFurthermore, the prince\\'s encounters with various characters throughout his journey highlight the importance of human connection and the search for meaning in our lives.  His relationship with the fox, a symbol of wisdom and understanding, underscores the need for genuine connection and the power of taming, or nurturing, relationships. The fox\\'s advice to \"tame\" another being, by investing time and care, resonates deeply in our digital age, where superficial connections are often prioritized over meaningful ones. The prince\\'s journey, therefore, serves as a reminder to cultivate genuine connections, to invest in relationships that nourish our souls, and to seek meaning beyond the fleeting pleasures of the digital world.\\n\\nHowever, the prince\\'s journey also reflects the anxieties of our modern world.  His encounters with the conceited man, the drunkard, and the businessman, all consumed by their own pursuits,  mirror the consumerism and superficiality that often characterize modern society. The prince\\'s search for meaning is not always met with understanding or empathy, highlighting the loneliness and isolation that can permeate even in a world brimming with information and connections. This sense of disconnect resonates deeply with contemporary readers who may feel overwhelmed by the demands of modern life and struggle to find genuine connection and purpose.\\n\\nWhile some critics argue that *The Little Prince* is simplistic and outdated, its enduring popularity and its ability to resonate with readers across generations speak to its timeless message.  The book\\'s simplicity, in fact, might be seen as a strength, offering a refreshing perspective in a complex world.  The prince\\'s journey challenges us to question our priorities, to re-evaluate our values, and to reconnect with the simple joys that often get overlooked in the hustle and bustle of daily life. It reminds us that true happiness lies not in material possessions or fleeting achievements, but in the cultivation of meaningful relationships, the pursuit of genuine connection, and the rediscovery of the magic that lies within each of us. \\n\\nUltimately, *The Little Prince* is more than just a children\\'s story; it is a timeless allegory that speaks to the human condition in all its complexities.  Its message about the importance of imagination, connection, and the search for meaning resonates deeply with the anxieties and challenges of modern life.  By embracing the simple truths of the book, we can find solace and guidance in a world that often feels overwhelming and disconnected. \\n', response_metadata={'prompt_feedback': {'block_reason': 0, 'safety_ratings': []}, 'finish_reason': 'STOP', 'safety_ratings': [{'category': 'HARM_CATEGORY_SEXUALLY_EXPLICIT', 'probability': 'NEGLIGIBLE', 'blocked': False}, {'category': 'HARM_CATEGORY_HATE_SPEECH', 'probability': 'NEGLIGIBLE', 'blocked': False}, {'category': 'HARM_CATEGORY_HARASSMENT', 'probability': 'NEGLIGIBLE', 'blocked': False}, {'category': 'HARM_CATEGORY_DANGEROUS_CONTENT', 'probability': 'NEGLIGIBLE', 'blocked': False}]}, id='run-8e8ec241-9420-44cc-81c7-90ec753d7caf-0')}\n",
      "---\n",
      "{'reflect': HumanMessage(content='This is an excellent essay! You\\'ve made significant improvements, and your analysis is both insightful and engaging. Here\\'s a breakdown of what works well:\\n\\n**Strengths:**\\n\\n* **Strong Thesis:** Your thesis clearly states the essay\\'s focus on the book\\'s relevance to modern life, setting the stage for your argument.\\n* **Developed Themes:** You effectively explore each theme (imagination, connection, and meaning) with specific examples from the text and insightful connections to contemporary issues. \\n* **Nuanced Counterargument:** You address the criticism of the book\\'s simplicity and offer a compelling counterargument, highlighting how its simplicity can be a strength in a complex world.\\n* **Engaging Conclusion:** Your conclusion effectively summarizes your main points and leaves the reader with a thought-provoking final statement about the book\\'s enduring message.\\n* **Improved Flow:** Your use of transitional phrases like \"Furthermore\" and \"However\" creates a smooth flow between paragraphs, making your argument easier to follow.\\n\\n**Minor Suggestions for Further Enhancement:**\\n\\n* **Sentence Variety:** While your sentences are generally clear, you could experiment with different sentence structures to add variety and impact. For example, you could try using a longer, more complex sentence to introduce a theme, followed by a shorter, punchier sentence to emphasize a key point.\\n* **Specific Examples:** You could consider incorporating even more specific examples from the text to illustrate your points. For example, you could mention the prince\\'s encounter with the lamplighter, who symbolizes the importance of finding meaning in seemingly mundane tasks.\\n\\n**Overall:**\\n\\nThis essay demonstrates a strong understanding of *The Little Prince* and its themes, and you have effectively argued for its enduring relevance in the modern world. Your analysis is insightful, well-organized, and engaging. With a few minor adjustments, this essay could be even stronger! \\n')}\n",
      "---\n",
      "{'generate': AIMessage(content='## The Little Prince: A Timeless Tale for a Disconnected World\\n\\nAntoine de Saint-Exupéry\\'s *The Little Prince*, a seemingly simple children\\'s book, continues to offer profound insights into the human condition, particularly in the context of modern life.  This essay will explore how the book\\'s themes of imagination, connection, and the pursuit of meaning resonate deeply with the anxieties and challenges of our contemporary world, reminding us of the enduring importance of cherishing the simple joys and seeking genuine connection in a world often consumed by complexity and superficiality.\\n\\nOne of the most poignant aspects of *The Little Prince* is its celebration of imagination and wonder. The prince\\'s journey is fueled by his insatiable curiosity and his ability to see beauty in the ordinary. He finds wonder in a simple rose, its delicate petals and intoxicating fragrance a testament to the power of nature. He marvels at the volcanic mountains, their fiery eruptions a symbol of life\\'s unpredictable forces. In a world increasingly dominated by technology and digital distractions, the prince\\'s childlike perspective serves as a potent reminder to cultivate our own inner child and rediscover the magic in the world around us.  In a society that often prioritizes efficiency over experience, the prince\\'s journey encourages us to slow down, observe, and appreciate the beauty that surrounds us.  \\n\\nFurthermore, the prince\\'s encounters with various characters throughout his journey highlight the importance of human connection and the search for meaning in our lives.  His relationship with the fox, a symbol of wisdom and understanding, underscores the need for genuine connection and the power of taming, or nurturing, relationships. The fox\\'s advice to \"tame\" another being, by investing time and care, resonates deeply in our digital age, where superficial connections are often prioritized over meaningful ones. The prince\\'s journey, therefore, serves as a reminder to cultivate genuine connections, to invest in relationships that nourish our souls, and to seek meaning beyond the fleeting pleasures of the digital world.\\n\\nHowever, the prince\\'s journey also reflects the anxieties of our modern world.  His encounters with the conceited man, the drunkard, and the businessman, all consumed by their own pursuits,  mirror the consumerism and superficiality that often characterize modern society. The prince\\'s search for meaning is not always met with understanding or empathy, highlighting the loneliness and isolation that can permeate even in a world brimming with information and connections. This sense of disconnect resonates deeply with contemporary readers who may feel overwhelmed by the demands of modern life and struggle to find genuine connection and purpose. \\n\\nWhile some critics argue that *The Little Prince* is simplistic and outdated, its enduring popularity and its ability to resonate with readers across generations speaks to its timeless message.  The book\\'s simplicity, in fact, might be seen as a strength, offering a refreshing perspective in a complex world.  The prince\\'s journey challenges us to question our priorities, to re-evaluate our values, and to reconnect with the simple joys that often get overlooked in the hustle and bustle of daily life. It reminds us that true happiness lies not in material possessions or fleeting achievements, but in the cultivation of meaningful relationships, the pursuit of genuine connection, and the rediscovery of the magic that lies within each of us. \\n\\nUltimately, *The Little Prince* is more than just a children\\'s story; it is a timeless allegory that speaks to the human condition in all its complexities.  Its message about the importance of imagination, connection, and the search for meaning resonates deeply with the anxieties and challenges of modern life.  By embracing the simple truths of the book, we can find solace and guidance in a world that often feels overwhelming and disconnected.  The prince\\'s journey, though fantastical, serves as a powerful reminder that true meaning lies not in grand gestures or material wealth, but in the simple act of seeing the world with a childlike wonder and cherishing the connections that make life truly meaningful. \\n', response_metadata={'prompt_feedback': {'block_reason': 0, 'safety_ratings': []}, 'finish_reason': 'STOP', 'safety_ratings': [{'category': 'HARM_CATEGORY_SEXUALLY_EXPLICIT', 'probability': 'NEGLIGIBLE', 'blocked': False}, {'category': 'HARM_CATEGORY_HATE_SPEECH', 'probability': 'NEGLIGIBLE', 'blocked': False}, {'category': 'HARM_CATEGORY_HARASSMENT', 'probability': 'NEGLIGIBLE', 'blocked': False}, {'category': 'HARM_CATEGORY_DANGEROUS_CONTENT', 'probability': 'NEGLIGIBLE', 'blocked': False}]}, id='run-7f101b59-8a2a-4a1d-bc25-96e7c56653b1-0')}\n",
      "---\n"
     ]
    }
   ],
   "source": [
    "async for event in graph.astream(\n",
    "    [\n",
    "        HumanMessage(\n",
    "            content=\"Generate an essay on the topicality of The Little Prince and its message in modern life\"\n",
    "        )\n",
    "    ],\n",
    "):\n",
    "    print(event)\n",
    "    print(\"---\")"
   ]
  },
  {
   "cell_type": "code",
   "execution_count": 13,
   "id": "f7762d6b",
   "metadata": {},
   "outputs": [
    {
     "data": {
      "text/plain": [
       "AIMessage(content='## The Little Prince: A Timeless Tale for a Disconnected World\\n\\nAntoine de Saint-Exupéry\\'s *The Little Prince*, a seemingly simple children\\'s book, continues to offer profound insights into the human condition, particularly in the context of modern life.  This essay will explore how the book\\'s themes of imagination, connection, and the pursuit of meaning resonate deeply with the anxieties and challenges of our contemporary world, reminding us of the enduring importance of cherishing the simple joys and seeking genuine connection in a world often consumed by complexity and superficiality.\\n\\nOne of the most poignant aspects of *The Little Prince* is its celebration of imagination and wonder. The prince\\'s journey is fueled by his insatiable curiosity and his ability to see beauty in the ordinary. He finds wonder in a simple rose, its delicate petals and intoxicating fragrance a testament to the power of nature. He marvels at the volcanic mountains, their fiery eruptions a symbol of life\\'s unpredictable forces. In a world increasingly dominated by technology and digital distractions, the prince\\'s childlike perspective serves as a potent reminder to cultivate our own inner child and rediscover the magic in the world around us.  In a society that often prioritizes efficiency over experience, the prince\\'s journey encourages us to slow down, observe, and appreciate the beauty that surrounds us.  \\n\\nFurthermore, the prince\\'s encounters with various characters throughout his journey highlight the importance of human connection and the search for meaning in our lives.  His relationship with the fox, a symbol of wisdom and understanding, underscores the need for genuine connection and the power of taming, or nurturing, relationships. The fox\\'s advice to \"tame\" another being, by investing time and care, resonates deeply in our digital age, where superficial connections are often prioritized over meaningful ones. The prince\\'s journey, therefore, serves as a reminder to cultivate genuine connections, to invest in relationships that nourish our souls, and to seek meaning beyond the fleeting pleasures of the digital world.\\n\\nHowever, the prince\\'s journey also reflects the anxieties of our modern world.  His encounters with the conceited man, the drunkard, and the businessman, all consumed by their own pursuits,  mirror the consumerism and superficiality that often characterize modern society. The prince\\'s search for meaning is not always met with understanding or empathy, highlighting the loneliness and isolation that can permeate even in a world brimming with information and connections. This sense of disconnect resonates deeply with contemporary readers who may feel overwhelmed by the demands of modern life and struggle to find genuine connection and purpose. \\n\\nWhile some critics argue that *The Little Prince* is simplistic and outdated, its enduring popularity and its ability to resonate with readers across generations speaks to its timeless message.  The book\\'s simplicity, in fact, might be seen as a strength, offering a refreshing perspective in a complex world.  The prince\\'s journey challenges us to question our priorities, to re-evaluate our values, and to reconnect with the simple joys that often get overlooked in the hustle and bustle of daily life. It reminds us that true happiness lies not in material possessions or fleeting achievements, but in the cultivation of meaningful relationships, the pursuit of genuine connection, and the rediscovery of the magic that lies within each of us. \\n\\nUltimately, *The Little Prince* is more than just a children\\'s story; it is a timeless allegory that speaks to the human condition in all its complexities.  Its message about the importance of imagination, connection, and the search for meaning resonates deeply with the anxieties and challenges of modern life.  By embracing the simple truths of the book, we can find solace and guidance in a world that often feels overwhelming and disconnected.  The prince\\'s journey, though fantastical, serves as a powerful reminder that true meaning lies not in grand gestures or material wealth, but in the simple act of seeing the world with a childlike wonder and cherishing the connections that make life truly meaningful. \\n', response_metadata={'prompt_feedback': {'block_reason': 0, 'safety_ratings': []}, 'finish_reason': 'STOP', 'safety_ratings': [{'category': 'HARM_CATEGORY_SEXUALLY_EXPLICIT', 'probability': 'NEGLIGIBLE', 'blocked': False}, {'category': 'HARM_CATEGORY_HATE_SPEECH', 'probability': 'NEGLIGIBLE', 'blocked': False}, {'category': 'HARM_CATEGORY_HARASSMENT', 'probability': 'NEGLIGIBLE', 'blocked': False}, {'category': 'HARM_CATEGORY_DANGEROUS_CONTENT', 'probability': 'NEGLIGIBLE', 'blocked': False}]}, id='run-7f101b59-8a2a-4a1d-bc25-96e7c56653b1-0')"
      ]
     },
     "execution_count": 13,
     "metadata": {},
     "output_type": "execute_result"
    }
   ],
   "source": [
    "event[\"generate\"]"
   ]
  },
  {
   "cell_type": "code",
   "execution_count": 15,
   "id": "394bf0df-fc28-4104-a278-a56c9cb8b10c",
   "metadata": {},
   "outputs": [
    {
     "name": "stdout",
     "output_type": "stream",
     "text": [
      "## The Little Prince: A Timeless Tale for a Disconnected World\n",
      "\n",
      "Antoine de Saint-Exupéry's *The Little Prince*, a seemingly simple children's book, continues to offer profound insights into the human condition, particularly in the context of modern life.  This essay will explore how the book's themes of imagination, connection, and the pursuit of meaning resonate deeply with the anxieties and challenges of our contemporary world, reminding us of the enduring importance of cherishing the simple joys and seeking genuine connection in a world often consumed by complexity and superficiality.\n",
      "\n",
      "One of the most poignant aspects of *The Little Prince* is its celebration of imagination and wonder. The prince's journey is fueled by his insatiable curiosity and his ability to see beauty in the ordinary. He finds wonder in a simple rose, its delicate petals and intoxicating fragrance a testament to the power of nature. He marvels at the volcanic mountains, their fiery eruptions a symbol of life's unpredictable forces. In a world increasingly dominated by technology and digital distractions, the prince's childlike perspective serves as a potent reminder to cultivate our own inner child and rediscover the magic in the world around us.  In a society that often prioritizes efficiency over experience, the prince's journey encourages us to slow down, observe, and appreciate the beauty that surrounds us.  \n",
      "\n",
      "Furthermore, the prince's encounters with various characters throughout his journey highlight the importance of human connection and the search for meaning in our lives.  His relationship with the fox, a symbol of wisdom and understanding, underscores the need for genuine connection and the power of taming, or nurturing, relationships. The fox's advice to \"tame\" another being, by investing time and care, resonates deeply in our digital age, where superficial connections are often prioritized over meaningful ones. The prince's journey, therefore, serves as a reminder to cultivate genuine connections, to invest in relationships that nourish our souls, and to seek meaning beyond the fleeting pleasures of the digital world.\n",
      "\n",
      "However, the prince's journey also reflects the anxieties of our modern world.  His encounters with the conceited man, the drunkard, and the businessman, all consumed by their own pursuits,  mirror the consumerism and superficiality that often characterize modern society. The prince's search for meaning is not always met with understanding or empathy, highlighting the loneliness and isolation that can permeate even in a world brimming with information and connections. This sense of disconnect resonates deeply with contemporary readers who may feel overwhelmed by the demands of modern life and struggle to find genuine connection and purpose. \n",
      "\n",
      "While some critics argue that *The Little Prince* is simplistic and outdated, its enduring popularity and its ability to resonate with readers across generations speaks to its timeless message.  The book's simplicity, in fact, might be seen as a strength, offering a refreshing perspective in a complex world.  The prince's journey challenges us to question our priorities, to re-evaluate our values, and to reconnect with the simple joys that often get overlooked in the hustle and bustle of daily life. It reminds us that true happiness lies not in material possessions or fleeting achievements, but in the cultivation of meaningful relationships, the pursuit of genuine connection, and the rediscovery of the magic that lies within each of us. \n",
      "\n",
      "Ultimately, *The Little Prince* is more than just a children's story; it is a timeless allegory that speaks to the human condition in all its complexities.  Its message about the importance of imagination, connection, and the search for meaning resonates deeply with the anxieties and challenges of modern life.  By embracing the simple truths of the book, we can find solace and guidance in a world that often feels overwhelming and disconnected.  The prince's journey, though fantastical, serves as a powerful reminder that true meaning lies not in grand gestures or material wealth, but in the simple act of seeing the world with a childlike wonder and cherishing the connections that make life truly meaningful. \n",
      "\n"
     ]
    }
   ],
   "source": [
    "print(event[\"generate\"].content)"
   ]
  },
  {
   "cell_type": "markdown",
   "id": "0fa62df2-e8ee-40dd-ac95-9d982eae6079",
   "metadata": {},
   "source": [
    "## Conclusion\n",
    "\n",
    "Now that you've applied reflection to an LLM agent, I'll note one thing: self-reflection is inherently cyclic: it is much more effective if the reflection step has additional context or feedback (from tool observations, checks, etc.). If, like in the scenario above, the reflection step simply prompts the LLM to reflect on its output, it can still benefit the output quality (since the LLM then has multiple \"shots\" at getting a good output), but it's less guaranteed.\n"
   ]
  },
  {
   "cell_type": "code",
   "execution_count": null,
   "id": "7c0e3efd-7f54-410e-bd31-36185a46b9a8",
   "metadata": {},
   "outputs": [],
   "source": []
  }
 ],
 "metadata": {
  "kernelspec": {
   "display_name": "Python 3 (ipykernel)",
   "language": "python",
   "name": "python3"
  },
  "language_info": {
   "codemirror_mode": {
    "name": "ipython",
    "version": 3
   },
   "file_extension": ".py",
   "mimetype": "text/x-python",
   "name": "python",
   "nbconvert_exporter": "python",
   "pygments_lexer": "ipython3",
   "version": "3.10.13"
  }
 },
 "nbformat": 4,
 "nbformat_minor": 5
}
